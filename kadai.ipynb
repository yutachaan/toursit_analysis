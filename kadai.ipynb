{
 "cells": [
  {
   "cell_type": "markdown",
   "metadata": {},
   "source": [
    "# 観光入込客数の分析"
   ]
  },
  {
   "cell_type": "code",
   "execution_count": 241,
   "metadata": {},
   "outputs": [],
   "source": [
    "import pandas as pd\n",
    "from sklearn.cluster import KMeans\n",
    "from sklearn.preprocessing import StandardScaler\n",
    "from sklearn.decomposition import PCA\n",
    "from sklearn import linear_model\n",
    "import sklearn.model_selection\n",
    "import matplotlib.pyplot as plt\n",
    "%matplotlib inline"
   ]
  },
  {
   "cell_type": "markdown",
   "metadata": {},
   "source": [
    "## 1. sheet1, 2, 4, 5の加工用関数の定義"
   ]
  },
  {
   "cell_type": "code",
   "execution_count": 202,
   "metadata": {},
   "outputs": [],
   "source": [
    "h26_files = [\"data/H26-{0}.xlsx\".format(i) for i in range(1, 5)]\n",
    "h27_files = [\"data/H27-{0}.xlsx\".format(i) for i in range(1, 5)]\n",
    "h28_files = [\"data/H28-{0}.xlsx\".format(i) for i in range(1, 5)]\n",
    "h29_files = [\"data/H29-{0}.xlsx\".format(i) for i in range(1, 5)]"
   ]
  },
  {
   "cell_type": "code",
   "execution_count": 237,
   "metadata": {},
   "outputs": [],
   "source": [
    "def process_files1(files):\n",
    "    '''''sheet1の加工'''\n",
    "    \n",
    "    col_names = [\"都道府県\", \"県内_宿泊\", \"県内_日帰り\", \"県外_宿泊\", \"県外_日帰り\", \"消費1\", \"消費2\", \"消費3\", \"消費4\" ]\n",
    "    df = pd.DataFrame()\n",
    "    \n",
    "    for file in files:\n",
    "        temp = pd.read_excel(file, sheet_name=1, skiprows=6, skipfooter=1, usecols=range(9),\n",
    "                            names=col_names,  index_col=0, na_values=[\"集計中\", \"-\"])\n",
    "        temp.reset_index(inplace=True)\n",
    "        if not df.empty: df = pd.concat([df, temp], ignore_index=True)\n",
    "        else: df = temp \n",
    "    \n",
    "    df = df.dropna(how=\"any\")\n",
    "    df[\"都道府県\"] = df[\"都道府県\"].str[3:]\n",
    "    df[\"消費額単価\"] =  df[\"消費1\"] + df[\"消費2\"] + df[\"消費3\"] + df[\"消費4\"]\n",
    "    df.drop(df.columns[[5, 6, 7, 8]], axis=1, inplace=True)\n",
    "    df.iloc[:, 1:] = df.iloc[:, 1:].astype(int)\n",
    "    \n",
    "    return df\n",
    "\n",
    "def process_files2(files):\n",
    "    '''sheet4と5の加工'''\n",
    "\n",
    "    col_names = [\"都道府県\", \"自然\", \"歴史・文化\", \"温泉・健康\", \"スポーツ・レク\", \"都市型観光\", \"イベント\"]\n",
    "\n",
    "    sheet4 = pd.DataFrame()\n",
    "    use_cols_4 = [0, 3, 4, 5, 6, 7, 10]\n",
    "\n",
    "    for(i, file) in enumerate(files):\n",
    "        temp = pd.read_excel(file, sheet_name=4, skiprows=6, skipfooter=1, usecols=use_cols_4, names=col_names, index_col=0)\n",
    "        temp = temp.stack()\n",
    "        temp.index.rename(\"目的\", level=1, inplace=True)\n",
    "        temp.name = \"地点数\"\n",
    "        temp = temp.reset_index()\n",
    "        if not sheet4.empty: sheet4 = pd.concat([sheet4, temp], ignore_index=True)\n",
    "        else: sheet4 = temp\n",
    "\n",
    "    sheet5 = pd.DataFrame()\n",
    "    use_cols_5 = [0, 3, 4, 5, 6, 7, 9]\n",
    "\n",
    "    for(i, file) in enumerate(files):\n",
    "        temp = pd.read_excel(file, sheet_name=5, skiprows=6, skipfooter=1, usecols=use_cols_5, names=col_names, index_col=0)\n",
    "        temp = temp.stack()\n",
    "        temp.index.rename(\"目的\", level=1, inplace=True)\n",
    "        temp.name = \"客数\"\n",
    "        temp = temp.reset_index()\n",
    "        if not sheet5.empty: sheet5 = pd.concat([sheet5, temp], ignore_index=True)\n",
    "        else: sheet5 = temp\n",
    "\n",
    "    df = pd.DataFrame()\n",
    "    df = pd.merge(sheet4, sheet5, left_index=True, right_index=True, on=[\"都道府県\", \"目的\"], how=\"left\")\n",
    "    df = df.dropna(how=\"any\")\n",
    "    df[\"都道府県\"] = df[\"都道府県\"].str[3:]\n",
    "    df.iloc[:, 2:] = df.iloc[:, 2:].astype(int)\n",
    "\n",
    "    return df"
   ]
  },
  {
   "cell_type": "markdown",
   "metadata": {},
   "source": [
    "## 2. sheet1, 2, 4, 5の加工"
   ]
  },
  {
   "cell_type": "code",
   "execution_count": 238,
   "metadata": {},
   "outputs": [],
   "source": [
    "# sheet1&sheet2\n",
    "h26_jp = process_files1(h26_files)\n",
    "h27_jp = process_files1(h27_files)\n",
    "h28_jp = process_files1(h28_files)\n",
    "h29_jp = process_files1(h29_files)\n",
    "jp = pd.concat([h26_jp, h27_jp, h28_jp, h29_jp], ignore_index=True)\n",
    "jp.to_csv(\"data_after/jp.csv\", index=False)\n",
    "\n",
    "#sheet4&sheet5\n",
    "h26_resorts = process_files2(h26_files)\n",
    "h27_resorts = process_files2(h27_files)\n",
    "h28_resorts = process_files2(h28_files)\n",
    "h29_resorts = process_files2(h29_files)\n",
    "resorts = pd.concat([h26_resorts, h27_resorts, h28_resorts, h29_resorts], ignore_index=True)\n",
    "resorts.to_csv(\"data_after/resorts.csv\", index=False)"
   ]
  },
  {
   "cell_type": "markdown",
   "metadata": {},
   "source": [
    "## 3. クラスタリング"
   ]
  },
  {
   "cell_type": "code",
   "execution_count": 196,
   "metadata": {},
   "outputs": [
    {
     "data": {
      "image/png": "[encoded data removed]",
      "text/plain": [
       "<Figure size 432x288 with 1 Axes>"
      ]
     },
     "metadata": {
      "needs_background": "light"
     },
     "output_type": "display_data"
    }
   ],
   "source": [
    "purpose = resorts[resorts.目的==\"自然\"].iloc[:, [2, 3]] #目的を設定\n",
    "\n",
    "sc = StandardScaler()\n",
    "purpose_sc = sc.fit_transform(purpose)\n",
    "\n",
    "#エルボー法により適切なクラスタ数を調べる\n",
    "distortions = []\n",
    "for i  in range(1,21):\n",
    "    km = KMeans(n_clusters=i, random_state=0)\n",
    "    km.fit(purpose_sc)\n",
    "    distortions.append(km.inertia_)\n",
    "\n",
    "plt.plot(range(1,21),distortions,marker='o')\n",
    "plt.xlabel('Number of clusters')\n",
    "plt.ylabel('Distortion')\n",
    "plt.show()"
   ]
  },
  {
   "cell_type": "code",
   "execution_count": 197,
   "metadata": {},
   "outputs": [],
   "source": [
    "#k-meansでクラスタリング\n",
    "km = KMeans(n_clusters=5, random_state=0)\n",
    "clusters = km.fit(purpose_sc)\n",
    "purpose[\"cluster\"] = clusters.labels_\n",
    "purpose = pd.merge(purpose, resorts[\"都道府県\"], left_index=True, right_index=True, how=\"left\")\n",
    "purpose = purpose.iloc[:, [3, 0, 1, 2]]\n",
    "purpose.reset_index(drop=True, inplace=True)"
   ]
  },
  {
   "cell_type": "code",
   "execution_count": 198,
   "metadata": {},
   "outputs": [
    {
     "data": {
      "text/html": [
       "<div>\n",
       "<style scoped>\n",
       "    .dataframe tbody tr th:only-of-type {\n",
       "        vertical-align: middle;\n",
       "    }\n",
       "\n",
       "    .dataframe tbody tr th {\n",
       "        vertical-align: top;\n",
       "    }\n",
       "\n",
       "    .dataframe thead th {\n",
       "        text-align: right;\n",
       "    }\n",
       "</style>\n",
       "<table border=\"1\" class=\"dataframe\">\n",
       "  <thead>\n",
       "    <tr style=\"text-align: right;\">\n",
       "      <th></th>\n",
       "      <th>都道府県</th>\n",
       "      <th>地点数</th>\n",
       "      <th>客数</th>\n",
       "      <th>cluster</th>\n",
       "    </tr>\n",
       "  </thead>\n",
       "  <tbody>\n",
       "    <tr>\n",
       "      <th>2</th>\n",
       "      <td>岩手県</td>\n",
       "      <td>33</td>\n",
       "      <td>604</td>\n",
       "      <td>1</td>\n",
       "    </tr>\n",
       "    <tr>\n",
       "      <th>47</th>\n",
       "      <td>岩手県</td>\n",
       "      <td>33</td>\n",
       "      <td>1226</td>\n",
       "      <td>1</td>\n",
       "    </tr>\n",
       "    <tr>\n",
       "      <th>91</th>\n",
       "      <td>岩手県</td>\n",
       "      <td>34</td>\n",
       "      <td>1706</td>\n",
       "      <td>0</td>\n",
       "    </tr>\n",
       "    <tr>\n",
       "      <th>135</th>\n",
       "      <td>岩手県</td>\n",
       "      <td>34</td>\n",
       "      <td>914</td>\n",
       "      <td>1</td>\n",
       "    </tr>\n",
       "    <tr>\n",
       "      <th>179</th>\n",
       "      <td>岩手県</td>\n",
       "      <td>34</td>\n",
       "      <td>911</td>\n",
       "      <td>1</td>\n",
       "    </tr>\n",
       "    <tr>\n",
       "      <th>223</th>\n",
       "      <td>岩手県</td>\n",
       "      <td>35</td>\n",
       "      <td>1406</td>\n",
       "      <td>1</td>\n",
       "    </tr>\n",
       "    <tr>\n",
       "      <th>266</th>\n",
       "      <td>岩手県</td>\n",
       "      <td>35</td>\n",
       "      <td>1922</td>\n",
       "      <td>0</td>\n",
       "    </tr>\n",
       "    <tr>\n",
       "      <th>309</th>\n",
       "      <td>岩手県</td>\n",
       "      <td>36</td>\n",
       "      <td>969</td>\n",
       "      <td>1</td>\n",
       "    </tr>\n",
       "    <tr>\n",
       "      <th>352</th>\n",
       "      <td>岩手県</td>\n",
       "      <td>37</td>\n",
       "      <td>454</td>\n",
       "      <td>1</td>\n",
       "    </tr>\n",
       "    <tr>\n",
       "      <th>395</th>\n",
       "      <td>岩手県</td>\n",
       "      <td>37</td>\n",
       "      <td>1204</td>\n",
       "      <td>1</td>\n",
       "    </tr>\n",
       "    <tr>\n",
       "      <th>438</th>\n",
       "      <td>岩手県</td>\n",
       "      <td>37</td>\n",
       "      <td>1541</td>\n",
       "      <td>1</td>\n",
       "    </tr>\n",
       "    <tr>\n",
       "      <th>481</th>\n",
       "      <td>岩手県</td>\n",
       "      <td>37</td>\n",
       "      <td>866</td>\n",
       "      <td>1</td>\n",
       "    </tr>\n",
       "    <tr>\n",
       "      <th>524</th>\n",
       "      <td>岩手県</td>\n",
       "      <td>38</td>\n",
       "      <td>476</td>\n",
       "      <td>1</td>\n",
       "    </tr>\n",
       "    <tr>\n",
       "      <th>565</th>\n",
       "      <td>岩手県</td>\n",
       "      <td>38</td>\n",
       "      <td>1264</td>\n",
       "      <td>1</td>\n",
       "    </tr>\n",
       "    <tr>\n",
       "      <th>605</th>\n",
       "      <td>岩手県</td>\n",
       "      <td>38</td>\n",
       "      <td>1518</td>\n",
       "      <td>1</td>\n",
       "    </tr>\n",
       "    <tr>\n",
       "      <th>646</th>\n",
       "      <td>岩手県</td>\n",
       "      <td>38</td>\n",
       "      <td>868</td>\n",
       "      <td>1</td>\n",
       "    </tr>\n",
       "  </tbody>\n",
       "</table>\n",
       "</div>"
      ],
      "text/plain": [
       "    都道府県  地点数    客数  cluster\n",
       "2    岩手県   33   604        1\n",
       "47   岩手県   33  1226        1\n",
       "91   岩手県   34  1706        0\n",
       "135  岩手県   34   914        1\n",
       "179  岩手県   34   911        1\n",
       "223  岩手県   35  1406        1\n",
       "266  岩手県   35  1922        0\n",
       "309  岩手県   36   969        1\n",
       "352  岩手県   37   454        1\n",
       "395  岩手県   37  1204        1\n",
       "438  岩手県   37  1541        1\n",
       "481  岩手県   37   866        1\n",
       "524  岩手県   38   476        1\n",
       "565  岩手県   38  1264        1\n",
       "605  岩手県   38  1518        1\n",
       "646  岩手県   38   868        1"
      ]
     },
     "execution_count": 198,
     "metadata": {},
     "output_type": "execute_result"
    }
   ],
   "source": [
    "#岩手県がどのクラスタに分類されたのかを確認\n",
    "iwate = purpose.loc[purpose[\"都道府県\"] == \"岩手県\"]\n",
    "iwate"
   ]
  },
  {
   "cell_type": "code",
   "execution_count": 199,
   "metadata": {},
   "outputs": [
    {
     "data": {
      "text/html": [
       "<div>\n",
       "<style scoped>\n",
       "    .dataframe tbody tr th:only-of-type {\n",
       "        vertical-align: middle;\n",
       "    }\n",
       "\n",
       "    .dataframe tbody tr th {\n",
       "        vertical-align: top;\n",
       "    }\n",
       "\n",
       "    .dataframe thead th {\n",
       "        text-align: right;\n",
       "    }\n",
       "</style>\n",
       "<table border=\"1\" class=\"dataframe\">\n",
       "  <thead>\n",
       "    <tr style=\"text-align: right;\">\n",
       "      <th></th>\n",
       "      <th>都道府県</th>\n",
       "      <th>地点数</th>\n",
       "      <th>客数</th>\n",
       "    </tr>\n",
       "    <tr>\n",
       "      <th>cluster</th>\n",
       "      <th></th>\n",
       "      <th></th>\n",
       "      <th></th>\n",
       "    </tr>\n",
       "  </thead>\n",
       "  <tbody>\n",
       "    <tr>\n",
       "      <th>0</th>\n",
       "      <td>90</td>\n",
       "      <td>90</td>\n",
       "      <td>90</td>\n",
       "    </tr>\n",
       "    <tr>\n",
       "      <th>1</th>\n",
       "      <td>244</td>\n",
       "      <td>244</td>\n",
       "      <td>244</td>\n",
       "    </tr>\n",
       "    <tr>\n",
       "      <th>2</th>\n",
       "      <td>24</td>\n",
       "      <td>24</td>\n",
       "      <td>24</td>\n",
       "    </tr>\n",
       "    <tr>\n",
       "      <th>3</th>\n",
       "      <td>53</td>\n",
       "      <td>53</td>\n",
       "      <td>53</td>\n",
       "    </tr>\n",
       "    <tr>\n",
       "      <th>4</th>\n",
       "      <td>272</td>\n",
       "      <td>272</td>\n",
       "      <td>272</td>\n",
       "    </tr>\n",
       "  </tbody>\n",
       "</table>\n",
       "</div>"
      ],
      "text/plain": [
       "         都道府県  地点数   客数\n",
       "cluster                \n",
       "0          90   90   90\n",
       "1         244  244  244\n",
       "2          24   24   24\n",
       "3          53   53   53\n",
       "4         272  272  272"
      ]
     },
     "execution_count": 199,
     "metadata": {},
     "output_type": "execute_result"
    }
   ],
   "source": [
    "#クラスタごとのデータ数を確認\n",
    "purpose.groupby(\"cluster\").count()"
   ]
  },
  {
   "cell_type": "code",
   "execution_count": 200,
   "metadata": {},
   "outputs": [
    {
     "data": {
      "text/html": [
       "<div>\n",
       "<style scoped>\n",
       "    .dataframe tbody tr th:only-of-type {\n",
       "        vertical-align: middle;\n",
       "    }\n",
       "\n",
       "    .dataframe tbody tr th {\n",
       "        vertical-align: top;\n",
       "    }\n",
       "\n",
       "    .dataframe thead th {\n",
       "        text-align: right;\n",
       "    }\n",
       "</style>\n",
       "<table border=\"1\" class=\"dataframe\">\n",
       "  <thead>\n",
       "    <tr style=\"text-align: right;\">\n",
       "      <th></th>\n",
       "      <th>地点数</th>\n",
       "      <th>客数</th>\n",
       "      <th>1地点あたりの客数</th>\n",
       "    </tr>\n",
       "    <tr>\n",
       "      <th>cluster</th>\n",
       "      <th></th>\n",
       "      <th></th>\n",
       "      <th></th>\n",
       "    </tr>\n",
       "  </thead>\n",
       "  <tbody>\n",
       "    <tr>\n",
       "      <th>2</th>\n",
       "      <td>58.958333</td>\n",
       "      <td>6339.916667</td>\n",
       "      <td>107.532155</td>\n",
       "    </tr>\n",
       "    <tr>\n",
       "      <th>0</th>\n",
       "      <td>40.577778</td>\n",
       "      <td>2375.266667</td>\n",
       "      <td>58.536145</td>\n",
       "    </tr>\n",
       "    <tr>\n",
       "      <th>4</th>\n",
       "      <td>16.889706</td>\n",
       "      <td>473.720588</td>\n",
       "      <td>28.047889</td>\n",
       "    </tr>\n",
       "    <tr>\n",
       "      <th>1</th>\n",
       "      <td>36.553279</td>\n",
       "      <td>789.069672</td>\n",
       "      <td>21.586837</td>\n",
       "    </tr>\n",
       "    <tr>\n",
       "      <th>3</th>\n",
       "      <td>80.867925</td>\n",
       "      <td>1514.830189</td>\n",
       "      <td>18.732151</td>\n",
       "    </tr>\n",
       "  </tbody>\n",
       "</table>\n",
       "</div>"
      ],
      "text/plain": [
       "               地点数           客数   1地点あたりの客数\n",
       "cluster                                    \n",
       "2        58.958333  6339.916667  107.532155\n",
       "0        40.577778  2375.266667   58.536145\n",
       "4        16.889706   473.720588   28.047889\n",
       "1        36.553279   789.069672   21.586837\n",
       "3        80.867925  1514.830189   18.732151"
      ]
     },
     "execution_count": 200,
     "metadata": {},
     "output_type": "execute_result"
    }
   ],
   "source": [
    "#クラスタごとの地点数と客数の平均値を算出\n",
    "purpose_mean = purpose.groupby(\"cluster\").mean()\n",
    "\n",
    "#1地点あたりの客数の列を追加\n",
    "purpose_mean[\"1地点あたりの客数\"] = purpose_mean[\"客数\"] / purpose_mean[\"地点数\"]\n",
    "purpose_mean.sort_values(\"1地点あたりの客数\", ascending=False, inplace=True)\n",
    "purpose_mean"
   ]
  },
  {
   "cell_type": "code",
   "execution_count": 201,
   "metadata": {},
   "outputs": [
    {
     "data": {
      "image/png": "[encoded data removed]",
      "text/plain": [
       "<Figure size 432x288 with 1 Axes>"
      ]
     },
     "metadata": {
      "needs_background": "light"
     },
     "output_type": "display_data"
    }
   ],
   "source": [
    "X = purpose_sc\n",
    "pca = PCA(n_components=2)\n",
    "pca.fit(X)\n",
    "x_pca = pca.transform(X)\n",
    "pca_df = pd.DataFrame(x_pca)\n",
    "pca_df[\"cluster\"] = purpose[\"cluster\"]\n",
    "\n",
    "for i in purpose[\"cluster\"].unique():\n",
    "    tmp = pca_df.loc[pca_df[\"cluster\"]==i]\n",
    "    plt.scatter(tmp[0], tmp[1])"
   ]
  },
  {
   "cell_type": "markdown",
   "metadata": {},
   "source": [
    "## 4. 回帰"
   ]
  },
  {
   "cell_type": "code",
   "execution_count": 242,
   "metadata": {},
   "outputs": [
    {
     "name": "stdout",
     "output_type": "stream",
     "text": [
      "0.3865838558600644\n",
      "0.37852680036705766\n"
     ]
    }
   ],
   "source": [
    "model = linear_model.LinearRegression()\n",
    "X = jp[[\"県内_宿泊\", \"県内_日帰り\", \"県外_宿泊\", \"県外_日帰り\"]]\n",
    "y = jp[\"消費額単価\"]\n",
    "X_train, X_test, y_train, y_test = sklearn.model_selection.train_test_split(X, y)\n",
    "model.fit(X_train, y_train)\n",
    "print(model.score(X_train, y_train))\n",
    "print(model.score(X_test, y_test))"
   ]
  },
  {
   "cell_type": "code",
   "execution_count": null,
   "metadata": {},
   "outputs": [],
   "source": []
  }
 ],
 "metadata": {
  "kernelspec": {
   "display_name": "Python 3",
   "language": "python",
   "name": "python3"
  },
  "language_info": {
   "codemirror_mode": {
    "name": "ipython",
    "version": 3
   },
   "file_extension": ".py",
   "mimetype": "text/x-python",
   "name": "python",
   "nbconvert_exporter": "python",
   "pygments_lexer": "ipython3",
   "version": "3.7.6"
  }
 },
 "nbformat": 4,
 "nbformat_minor": 4
}
